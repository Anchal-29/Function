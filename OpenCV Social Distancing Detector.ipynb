{
 "metadata": {
  "language_info": {
   "codemirror_mode": {
    "name": "ipython",
    "version": 3
   },
   "file_extension": ".py",
   "mimetype": "text/x-python",
   "name": "python",
   "nbconvert_exporter": "python",
   "pygments_lexer": "ipython3",
   "version": "3.9.1"
  },
  "orig_nbformat": 2,
  "kernelspec": {
   "name": "python391jvsc74a57bd043435a050d4ac362dc4b1b4851a0333547cf4819a4e47175b9a0f2919a9b0b1b",
   "display_name": "Python 3.9.1 64-bit"
  },
  "metadata": {
   "interpreter": {
    "hash": "43435a050d4ac362dc4b1b4851a0333547cf4819a4e47175b9a0f2919a9b0b1b"
   }
  }
 },
 "nbformat": 4,
 "nbformat_minor": 2,
 "cells": [
  {
   "cell_type": "code",
   "execution_count": 1,
   "metadata": {},
   "outputs": [
    {
     "output_type": "error",
     "ename": "SyntaxError",
     "evalue": "invalid syntax (<ipython-input-1-317a685e678f>, line 1)",
     "traceback": [
      "\u001b[1;36m  File \u001b[1;32m\"<ipython-input-1-317a685e678f>\"\u001b[1;36m, line \u001b[1;32m1\u001b[0m\n\u001b[1;33m    $ time python social_distance_detector.py --input pedestrians.mp4  \\\u001b[0m\n\u001b[1;37m    ^\u001b[0m\n\u001b[1;31mSyntaxError\u001b[0m\u001b[1;31m:\u001b[0m invalid syntax\n"
     ]
    }
   ],
   "source": [
    "$ time python social_distance_detector.py --input pedestrians.mp4  \\\n",
    "\t--output output.avi --display 0\n",
    "[INFO] loading YOLO from disk...\n",
    "[INFO] accessing video stream...\n",
    "real    3m43.120s\n",
    "user    23m20.616s\n",
    "sys     0m25.824s"
   ]
  },
  {
   "cell_type": "code",
   "execution_count": 2,
   "metadata": {},
   "outputs": [],
   "source": [
    "# boolean indicating if NVIDIA CUDA GPU should be used\n",
    "USE_GPU = True"
   ]
  },
  {
   "cell_type": "code",
   "execution_count": null,
   "metadata": {},
   "outputs": [],
   "source": [
    "$ time python social_distance_detector.py --input pedestrians.mp4 \\\n",
    "\t--output output.avi --display 0\n",
    "[INFO] loading YOLO from disk...\n",
    "[INFO] setting preferable backend and target to CUDA...\n",
    "[INFO] accessing video stream...\n",
    "real    0m56.008s\n",
    "user    1m15.772s\n",
    "sys     0m7.036s"
   ]
  }
 ]
}